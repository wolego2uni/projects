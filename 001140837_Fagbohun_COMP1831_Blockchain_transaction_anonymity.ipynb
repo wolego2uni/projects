{
  "nbformat": 4,
  "nbformat_minor": 0,
  "metadata": {
    "colab": {
      "name": "001140837_Fagbohun_COMP1831_Blockchain_transaction_anonymity.ipynb",
      "provenance": [],
      "collapsed_sections": [],
      "include_colab_link": true
    },
    "kernelspec": {
      "name": "python3",
      "display_name": "Python 3"
    }
  },
  "cells": [
    {
      "cell_type": "markdown",
      "metadata": {
        "id": "view-in-github",
        "colab_type": "text"
      },
      "source": [
        "<a href=\"https://colab.research.google.com/github/wolego2uni/projects/blob/main/001140837_Fagbohun_COMP1831_Blockchain_transaction_anonymity.ipynb\" target=\"_parent\"><img src=\"https://colab.research.google.com/assets/colab-badge.svg\" alt=\"Open In Colab\"/></a>"
      ]
    },
    {
      "cell_type": "markdown",
      "metadata": {
        "id": "NChvZD_8KZDA"
      },
      "source": [
        "# **Technologies for Anti-Money Laundering and Financial Crime**\n",
        "### *COMP-1831-M01-2020-21*"
      ]
    },
    {
      "cell_type": "markdown",
      "metadata": {
        "id": "B7-ZkAMzMg8E"
      },
      "source": [
        "## **SVM Classification**"
      ]
    },
    {
      "cell_type": "code",
      "metadata": {
        "colab": {
          "base_uri": "https://localhost:8080/"
        },
        "id": "bOoiTTwFL6of",
        "outputId": "1748e1ac-6b76-40d3-d876-06eb03d2bb11"
      },
      "source": [
        "!gdown --id 13nw-uRXPY8XIZQxKRNZ3yYlho-CYm_Qt"
      ],
      "execution_count": null,
      "outputs": [
        {
          "output_type": "stream",
          "text": [
            "Downloading...\n",
            "From: https://drive.google.com/uc?id=13nw-uRXPY8XIZQxKRNZ3yYlho-CYm_Qt\n",
            "To: /content/bill_authentication.csv\n",
            "\r  0% 0.00/46.4k [00:00<?, ?B/s]\r100% 46.4k/46.4k [00:00<00:00, 18.0MB/s]\n"
          ],
          "name": "stdout"
        }
      ]
    },
    {
      "cell_type": "markdown",
      "metadata": {
        "id": "vNCQN9JuWflg"
      },
      "source": [
        "#**Import Libraries**"
      ]
    },
    {
      "cell_type": "code",
      "metadata": {
        "id": "1IjXIZEzLyGh"
      },
      "source": [
        "import pandas as pd\n",
        "import numpy as np\n",
        "import matplotlib.pyplot as plt\n",
        "%matplotlib inline"
      ],
      "execution_count": null,
      "outputs": []
    },
    {
      "cell_type": "code",
      "metadata": {
        "colab": {
          "base_uri": "https://localhost:8080/",
          "height": 215
        },
        "id": "_1ETrQDAL1Y0",
        "outputId": "85151290-bbdb-4d9a-f65b-109d042c916e"
      },
      "source": [
        "bankdata = pd.read_csv(\"/content/bill_authentication.csv\")\n",
        "\n",
        "print(\"Dataset Shape: \", bankdata.shape)\n",
        "\n",
        "bankdata.head()"
      ],
      "execution_count": null,
      "outputs": [
        {
          "output_type": "stream",
          "text": [
            "Dataset Shape:  (1372, 5)\n"
          ],
          "name": "stdout"
        },
        {
          "output_type": "execute_result",
          "data": {
            "text/html": [
              "<div>\n",
              "<style scoped>\n",
              "    .dataframe tbody tr th:only-of-type {\n",
              "        vertical-align: middle;\n",
              "    }\n",
              "\n",
              "    .dataframe tbody tr th {\n",
              "        vertical-align: top;\n",
              "    }\n",
              "\n",
              "    .dataframe thead th {\n",
              "        text-align: right;\n",
              "    }\n",
              "</style>\n",
              "<table border=\"1\" class=\"dataframe\">\n",
              "  <thead>\n",
              "    <tr style=\"text-align: right;\">\n",
              "      <th></th>\n",
              "      <th>Variance</th>\n",
              "      <th>Skewness</th>\n",
              "      <th>Curtosis</th>\n",
              "      <th>Entropy</th>\n",
              "      <th>Class</th>\n",
              "    </tr>\n",
              "  </thead>\n",
              "  <tbody>\n",
              "    <tr>\n",
              "      <th>0</th>\n",
              "      <td>3.62160</td>\n",
              "      <td>8.6661</td>\n",
              "      <td>-2.8073</td>\n",
              "      <td>-0.44699</td>\n",
              "      <td>0</td>\n",
              "    </tr>\n",
              "    <tr>\n",
              "      <th>1</th>\n",
              "      <td>4.54590</td>\n",
              "      <td>8.1674</td>\n",
              "      <td>-2.4586</td>\n",
              "      <td>-1.46210</td>\n",
              "      <td>0</td>\n",
              "    </tr>\n",
              "    <tr>\n",
              "      <th>2</th>\n",
              "      <td>3.86600</td>\n",
              "      <td>-2.6383</td>\n",
              "      <td>1.9242</td>\n",
              "      <td>0.10645</td>\n",
              "      <td>0</td>\n",
              "    </tr>\n",
              "    <tr>\n",
              "      <th>3</th>\n",
              "      <td>3.45660</td>\n",
              "      <td>9.5228</td>\n",
              "      <td>-4.0112</td>\n",
              "      <td>-3.59440</td>\n",
              "      <td>0</td>\n",
              "    </tr>\n",
              "    <tr>\n",
              "      <th>4</th>\n",
              "      <td>0.32924</td>\n",
              "      <td>-4.4552</td>\n",
              "      <td>4.5718</td>\n",
              "      <td>-0.98880</td>\n",
              "      <td>0</td>\n",
              "    </tr>\n",
              "  </tbody>\n",
              "</table>\n",
              "</div>"
            ],
            "text/plain": [
              "   Variance  Skewness  Curtosis  Entropy  Class\n",
              "0   3.62160    8.6661   -2.8073 -0.44699      0\n",
              "1   4.54590    8.1674   -2.4586 -1.46210      0\n",
              "2   3.86600   -2.6383    1.9242  0.10645      0\n",
              "3   3.45660    9.5228   -4.0112 -3.59440      0\n",
              "4   0.32924   -4.4552    4.5718 -0.98880      0"
            ]
          },
          "metadata": {
            "tags": []
          },
          "execution_count": 3
        }
      ]
    },
    {
      "cell_type": "code",
      "metadata": {
        "id": "jcXIyeuGMOQd"
      },
      "source": [
        "X = bankdata.drop('Class', axis=1)\n",
        "y = bankdata['Class']"
      ],
      "execution_count": null,
      "outputs": []
    },
    {
      "cell_type": "code",
      "metadata": {
        "id": "ScdjtW9nMSNf"
      },
      "source": [
        "from sklearn.model_selection import train_test_split\n",
        "X_train, X_test, y_train, y_test = train_test_split(X, y, test_size = 0.20)"
      ],
      "execution_count": null,
      "outputs": []
    },
    {
      "cell_type": "code",
      "metadata": {
        "colab": {
          "base_uri": "https://localhost:8080/"
        },
        "id": "Ny8CGkdrMUOU",
        "outputId": "27703eaf-1253-4102-98be-fbafe616aab2"
      },
      "source": [
        "from sklearn.svm import SVC\n",
        "svclassifier = SVC(kernel='linear')\n",
        "svclassifier.fit(X_train, y_train)"
      ],
      "execution_count": null,
      "outputs": [
        {
          "output_type": "execute_result",
          "data": {
            "text/plain": [
              "SVC(C=1.0, break_ties=False, cache_size=200, class_weight=None, coef0=0.0,\n",
              "    decision_function_shape='ovr', degree=3, gamma='scale', kernel='linear',\n",
              "    max_iter=-1, probability=False, random_state=None, shrinking=True,\n",
              "    tol=0.001, verbose=False)"
            ]
          },
          "metadata": {
            "tags": []
          },
          "execution_count": 6
        }
      ]
    },
    {
      "cell_type": "code",
      "metadata": {
        "colab": {
          "base_uri": "https://localhost:8080/"
        },
        "id": "t1v1bFy2MYAd",
        "outputId": "d5a2196d-e646-4279-a4aa-463404c9761d"
      },
      "source": [
        "from sklearn.metrics import classification_report, confusion_matrix\n",
        "\n",
        "y_pred = svclassifier.predict(X_test)\n",
        "\n",
        "print(classification_report(y_test,y_pred))"
      ],
      "execution_count": null,
      "outputs": [
        {
          "output_type": "stream",
          "text": [
            "              precision    recall  f1-score   support\n",
            "\n",
            "           0       0.99      0.99      0.99       150\n",
            "           1       0.98      0.98      0.98       125\n",
            "\n",
            "    accuracy                           0.99       275\n",
            "   macro avg       0.99      0.99      0.99       275\n",
            "weighted avg       0.99      0.99      0.99       275\n",
            "\n"
          ],
          "name": "stdout"
        }
      ]
    },
    {
      "cell_type": "markdown",
      "metadata": {
        "id": "EdO8kXsX6On4"
      },
      "source": [
        "### **Blockchain transaction anonymity and intelligence.**\n",
        "\n",
        "\n",
        "\n",
        "\n"
      ]
    },
    {
      "cell_type": "markdown",
      "metadata": {
        "id": "ET27NrtMJ3wZ"
      },
      "source": [
        "## Python Dependencies"
      ]
    },
    {
      "cell_type": "code",
      "metadata": {
        "colab": {
          "base_uri": "https://localhost:8080/"
        },
        "id": "7sL8mlO-6A5E",
        "outputId": "3eed5145-3ec6-4fed-ac7b-1f1864674a97"
      },
      "source": [
        "!pip install -U git+https://github.com/apogiatzis/etherscan_py\n",
        "!pip install neo4j"
      ],
      "execution_count": null,
      "outputs": [
        {
          "output_type": "stream",
          "text": [
            "Collecting git+https://github.com/apogiatzis/etherscan_py\n",
            "  Cloning https://github.com/apogiatzis/etherscan_py to /tmp/pip-req-build-jauy5vrt\n",
            "  Running command git clone -q https://github.com/apogiatzis/etherscan_py /tmp/pip-req-build-jauy5vrt\n",
            "Building wheels for collected packages: etherscan-py\n",
            "  Building wheel for etherscan-py (setup.py) ... \u001b[?25l\u001b[?25hdone\n",
            "  Created wheel for etherscan-py: filename=etherscan_py-0.2.4-py2.py3-none-any.whl size=6578 sha256=183f04f0aa5d3903f851114f36db459d5251c9d816ecfafda539388e0631e703\n",
            "  Stored in directory: /tmp/pip-ephem-wheel-cache-qpgbc1o8/wheels/35/56/cf/ac7e9d2250b53dec727905714a99f4d5c7b2f613139324aa42\n",
            "Successfully built etherscan-py\n",
            "Installing collected packages: etherscan-py\n",
            "Successfully installed etherscan-py-0.2.4\n",
            "Collecting neo4j\n",
            "\u001b[?25l  Downloading https://files.pythonhosted.org/packages/36/f7/3c0b20ad7cdeac89d44e5380b0b4507995b1aec843692e3e76dd6cd1c638/neo4j-4.2.1.tar.gz (69kB)\n",
            "\u001b[K     |████████████████████████████████| 71kB 3.4MB/s \n",
            "\u001b[?25hRequirement already satisfied: pytz in /usr/local/lib/python3.7/dist-packages (from neo4j) (2018.9)\n",
            "Building wheels for collected packages: neo4j\n",
            "  Building wheel for neo4j (setup.py) ... \u001b[?25l\u001b[?25hdone\n",
            "  Created wheel for neo4j: filename=neo4j-4.2.1-cp37-none-any.whl size=95190 sha256=841713c5da8512227c50e5062f4fcf38f293db9215967dbdb5c78cdc8bef732f\n",
            "  Stored in directory: /root/.cache/pip/wheels/00/a8/69/083e04c2ffc0a7e026c9356cd5bb54c65128f3e08ef8371be0\n",
            "Successfully built neo4j\n",
            "Installing collected packages: neo4j\n",
            "Successfully installed neo4j-4.2.1\n"
          ],
          "name": "stdout"
        }
      ]
    },
    {
      "cell_type": "markdown",
      "metadata": {
        "id": "RH6x5HiQMtoY"
      },
      "source": [
        "## Neo4J Instance\n",
        "\n",
        "For the purpose of visualizing some of the transactions in this lab, a Neo4J database will be used. Luckilym Neo4J provides a free Neo4j instance that persists the data for 3 days before resetting. To follow along with the lab go ahead and create an account here(https://sandbox.neo4j.com/) to acquire your free instance.\n",
        "\n",
        "**Use the credentials and urls provided in the code below to connect yo your instance.**"
      ]
    },
    {
      "cell_type": "code",
      "metadata": {
        "id": "H5YMMjL5Nv0K"
      },
      "source": [
        "from neo4j import GraphDatabase\n",
        "\n",
        "# change these to your credentials and url\n",
        "BOLT_URL = \"bolt://18.233.0.156:7687\"\n",
        "USER = \"neo4j\"\n",
        "PWD = \"assignments-destination-guess\"\n",
        "\n",
        "class Neo4jConnection:\n",
        "    \n",
        "    def __init__(self, uri, user, pwd):\n",
        "        self.__uri = uri\n",
        "        self.__user = user\n",
        "        self.__pwd = pwd\n",
        "        self.__driver = None\n",
        "        try:\n",
        "            self.__driver = GraphDatabase.driver(self.__uri, auth=(self.__user, self.__pwd))\n",
        "        except Exception as e:\n",
        "            print(\"Failed to create the driver:\", e)\n",
        "        \n",
        "    def close(self):\n",
        "        if self.__driver is not None:\n",
        "            self.__driver.close()\n",
        "        \n",
        "    def query(self, query, parameters=None, db=None):\n",
        "        assert self.__driver is not None, \"Driver not initialized!\"\n",
        "        session = None\n",
        "        response = None\n",
        "        try: \n",
        "            session = self.__driver.session(database=db) if db is not None else self.__driver.session() \n",
        "            response = list(session.run(query, parameters))\n",
        "        except Exception as e:\n",
        "            print(\"Query failed:\", e)\n",
        "        finally: \n",
        "            if session is not None:\n",
        "                session.close()\n",
        "        return response\n",
        "\n",
        "\n",
        "conn = Neo4jConnection(uri=BOLT_URL, user=USER, pwd=PWD)"
      ],
      "execution_count": null,
      "outputs": []
    },
    {
      "cell_type": "code",
      "metadata": {
        "id": "5S1G_460ODw4",
        "colab": {
          "base_uri": "https://localhost:8080/"
        },
        "outputId": "d2fe5b4d-2cb9-47a2-f207-918009804e11"
      },
      "source": [
        "conn.query('CREATE CONSTRAINT transactions IF NOT EXISTS ON (t:Transaction) ASSERT t.hash IS UNIQUE')\n",
        "conn.query('CREATE CONSTRAINT addresses IF NOT EXISTS ON (a:Address) ASSERT a.public_key IS UNIQUE')"
      ],
      "execution_count": null,
      "outputs": [
        {
          "output_type": "execute_result",
          "data": {
            "text/plain": [
              "[]"
            ]
          },
          "metadata": {
            "tags": []
          },
          "execution_count": 11
        }
      ]
    },
    {
      "cell_type": "markdown",
      "metadata": {
        "id": "51sSV5esnhsw"
      },
      "source": [
        "### Cypher Queries:\n",
        "\n",
        "Show all nodes and relationships:\n",
        "```\n",
        "MATCH (n) MATCH (n)-[r]-() RETURN n,r\n",
        "```\n",
        "\n",
        "Delete all notes and relationships:\n",
        "```\n",
        "MATCH (n) MATCH (n)-[r]-() DELETE n,r\n",
        "```"
      ]
    },
    {
      "cell_type": "markdown",
      "metadata": {
        "id": "YIBHNDRjONhY"
      },
      "source": [
        "# Helper functions for Neo4J"
      ]
    },
    {
      "cell_type": "code",
      "metadata": {
        "id": "24NRLHLFOFGB"
      },
      "source": [
        "def insert_data(query, rows, batch_size = 10000):\n",
        "    # Function to handle the updating the Neo4j database in batch mode.\n",
        "    \n",
        "    total = 0\n",
        "    batch = 0\n",
        "    start = time.time()\n",
        "    result = None\n",
        "    \n",
        "    while batch * batch_size < len(rows):\n",
        "\n",
        "        res = conn.query(query, \n",
        "                         parameters= {\n",
        "                         'rows': rows[batch*batch_size:(batch+1)*batch_size].to_dict('records')})\n",
        "        total += res[0]['total']\n",
        "        batch += 1\n",
        "        result = {\"total\":total, \n",
        "                  \"batches\":batch, \n",
        "                  \"time\":time.time()-start}\n",
        "        print(result)\n",
        "\n",
        "        return result"
      ],
      "execution_count": null,
      "outputs": []
    },
    {
      "cell_type": "code",
      "metadata": {
        "id": "KKI1ArD9OHiW"
      },
      "source": [
        "def add_transactions(address, transactions, direction=\"forward\"):\n",
        "    # Adds transactions nodes to the Neo4j graph.\n",
        "    query = '''\n",
        "      UNWIND $rows AS row\n",
        "      MERGE (t:Transaction {txhash: row.txhash})\n",
        "      ON CREATE SET\n",
        "        t.gas_used = row.gas_used,\n",
        "        t.value = row.value\n",
        "      RETURN count(*) as total\n",
        "    '''\n",
        "\n",
        "    if direction == \"forward\":\n",
        "      rel_query = \"\"\"\n",
        "        UNWIND $rows AS row\n",
        "        MATCH\n",
        "          (t:Transaction),\n",
        "          (from_a:Address),\n",
        "          (to_a:Address)\n",
        "        WHERE t.txhash = row.txhash AND from_a.public_key = $address AND to_a.public_key = row.to_address\n",
        "        CREATE (from_a)-[r_created:CREATED]->(t)\n",
        "        CREATE (t)-[r_to:TO]->(to_a)\n",
        "        RETURN  count(*) as total\n",
        "      \"\"\"\n",
        "    elif direction == \"backward\":\n",
        "      rel_query = \"\"\"\n",
        "        UNWIND $rows AS row\n",
        "        MATCH\n",
        "          (t:Transaction),\n",
        "          (from_a:Address),\n",
        "          (to_a:Address)\n",
        "        WHERE t.txhash = row.txhash AND from_a.public_key = row.from_address AND to_a.public_key = $address\n",
        "        CREATE (from_a)-[r_created:CREATED]->(t)\n",
        "        CREATE (t)-[r_to:TO]->(to_a)\n",
        "        RETURN  count(*) as total\n",
        "      \"\"\"\n",
        "\n",
        "    transactions_added =  conn.query(query, parameters = {'rows':transactions})\n",
        "    address_added =  conn.query(rel_query, parameters = {'rows':transactions, \"address\": address})\n",
        "\n",
        "    return transactions_added\n",
        "\n",
        "def add_addresses(addresses):\n",
        "    # Adds transactions nodes to the Neo4j graph.\n",
        "    query = '''\n",
        "        UNWIND $rows AS row\n",
        "        MERGE (a:Address {public_key: row})\n",
        "        RETURN count(*) as total\n",
        "    '''\n",
        "    return conn.query(query, parameters = {'rows':addresses})\n",
        "\n",
        "def save_to_neo4j(data, direction=\"forward\"):\n",
        "  # Create addresses\n",
        "  add_addresses(list(data.keys()))\n",
        "\n",
        "  # Create transactions\n",
        "  for addr, transactions in data.items():\n",
        "    add_transactions(addr, transactions, direction=direction)"
      ],
      "execution_count": null,
      "outputs": []
    },
    {
      "cell_type": "markdown",
      "metadata": {
        "id": "NTir7b21XfO_"
      },
      "source": [
        "# Ethrescan Setup\n",
        "\n"
      ]
    },
    {
      "cell_type": "code",
      "metadata": {
        "id": "WNX5u_oBaJK1"
      },
      "source": [
        "from etherscan_py import etherscan_py\n",
        "\n",
        "# Change this with your API key\n",
        "ETHERSCAN_API_KEY=\"96BZQVDCQTUII3WX8Y3IMRV6BR12THD1IP\"\n",
        "\n",
        "goerli_client = etherscan_py.Client(ETHERSCAN_API_KEY,network=\"goerli\")\n",
        "mainnet_client = etherscan_py.Client(ETHERSCAN_API_KEY)"
      ],
      "execution_count": null,
      "outputs": []
    },
    {
      "cell_type": "markdown",
      "metadata": {
        "id": "CgChklaCaWre"
      },
      "source": [
        "# Blockchain analysis functions\n",
        "\n"
      ]
    },
    {
      "cell_type": "code",
      "metadata": {
        "id": "lqB0-PXQahP1"
      },
      "source": [
        "import time\n",
        "\n",
        "addresses = {}\n",
        "\n",
        "def forward_address_intel(client, address, depth=1, checked_addresses=set()):\n",
        "  if depth == 0: return\n",
        "\n",
        "  # Avoid rate limitting\n",
        "  time.sleep(1.5)\n",
        "\n",
        "  address = address.lower()\n",
        "  print(\"Forward tracking from: \", address)\n",
        "\n",
        "  # Get all transactions sent by that address\n",
        "  transactions = client.get_all_transactions(from_address=address, status=2)\n",
        "\n",
        "  outgoing_transactions = [t for t in transactions if t.from_address == address]\n",
        "\n",
        "  addresses[address] = addresses.get(address, set())\n",
        "  addresses[address] |= set(outgoing_transactions)\n",
        "  checked_addresses.add(address)\n",
        "  \n",
        "  unchecked_addresses = set([t.to_address for t in outgoing_transactions]) - checked_addresses\n",
        "    \n",
        "  # Do the same thing on each distinct recipient address of the transactions\n",
        "  for addr in unchecked_addresses:\n",
        "    forward_address_intel(client=client, address=addr, depth=depth-1, checked_addresses=checked_addresses)\n",
        "\n",
        "def backtrack_address_intel(client, address, depth=1, checked_addresses=set()):\n",
        "  if depth == 0: return\n",
        "\n",
        "  # Avoid rate limitting\n",
        "  time.sleep(1.5)\n",
        "\n",
        "  address = address.lower()\n",
        "  print(\"Backtracking from: \", address)\n",
        "\n",
        "  # Get all transactions sent by that address\n",
        "  transactions = client.get_all_transactions(from_address=address, status=2)\n",
        "\n",
        "  incoming_transactions = [t for t in transactions if t.to_address == address]\n",
        "  # print(incoming_transactions)\n",
        "  addresses[address] = addresses.get(address, set())\n",
        "  addresses[address] |= set(incoming_transactions)\n",
        "  checked_addresses.add(address)\n",
        "  \n",
        "  unchecked_addresses = set([t.from_address for t in incoming_transactions]) - checked_addresses\n",
        "    \n",
        "  # # Do the same thing on each distinct recipient address of the transactions\n",
        "  for addr in unchecked_addresses:\n",
        "    backtrack_address_intel(client=client, address=addr, depth=depth-1, checked_addresses=checked_addresses)"
      ],
      "execution_count": null,
      "outputs": []
    },
    {
      "cell_type": "markdown",
      "metadata": {
        "id": "QhuiWitDdaZj"
      },
      "source": [
        "# Normal transaction backtracking\n",
        "\n",
        " Can you verify that the origin (3 levels deep) of the funds in this Goerli Testnet \n",
        "Ethereum address 0xA885fCA76Bd27198Dd8E498D85809DEA4d0cbf26 was \n",
        "0x5d0ca2Bb3c0ba222128a21b7e66bC5ffF1D22d0A? Was there any anonymity technique \n",
        "used on those transactions? If yes which one (Coin mixing/CoinJoin)? Show a network graph \n",
        "of the transaction trail if applicable."
      ]
    },
    {
      "cell_type": "code",
      "metadata": {
        "colab": {
          "base_uri": "https://localhost:8080/",
          "height": 352
        },
        "id": "AN5FYIUudlj2",
        "outputId": "2159e226-05de-4475-8293-8668d6fbe04f"
      },
      "source": [
        "addresses = {}\n",
        "backtrack_address_intel(client=goerli_client, address=\"0xA885fCA76Bd27198Dd8E498D85809DEA4d0cbf26\", depth=3, checked_addresses=set())"
      ],
      "execution_count": null,
      "outputs": [
        {
          "output_type": "stream",
          "text": [
            "Backtracking from:  0xa885fca76bd27198dd8e498d85809dea4d0cbf26\n"
          ],
          "name": "stdout"
        },
        {
          "output_type": "error",
          "ename": "IndexError",
          "evalue": "ignored",
          "traceback": [
            "\u001b[0;31m---------------------------------------------------------------------------\u001b[0m",
            "\u001b[0;31mIndexError\u001b[0m                                Traceback (most recent call last)",
            "\u001b[0;32m<ipython-input-32-b4dbbd4d3e62>\u001b[0m in \u001b[0;36m<module>\u001b[0;34m()\u001b[0m\n\u001b[1;32m      1\u001b[0m \u001b[0maddresses\u001b[0m \u001b[0;34m=\u001b[0m \u001b[0;34m{\u001b[0m\u001b[0;34m}\u001b[0m\u001b[0;34m\u001b[0m\u001b[0;34m\u001b[0m\u001b[0m\n\u001b[0;32m----> 2\u001b[0;31m \u001b[0mbacktrack_address_intel\u001b[0m\u001b[0;34m(\u001b[0m\u001b[0mclient\u001b[0m\u001b[0;34m=\u001b[0m\u001b[0mgoerli_client\u001b[0m\u001b[0;34m,\u001b[0m \u001b[0maddress\u001b[0m\u001b[0;34m=\u001b[0m\u001b[0;34m\"0xA885fCA76Bd27198Dd8E498D85809DEA4d0cbf26\"\u001b[0m\u001b[0;34m,\u001b[0m \u001b[0mdepth\u001b[0m\u001b[0;34m=\u001b[0m\u001b[0;36m3\u001b[0m\u001b[0;34m,\u001b[0m \u001b[0mchecked_addresses\u001b[0m\u001b[0;34m=\u001b[0m\u001b[0mset\u001b[0m\u001b[0;34m(\u001b[0m\u001b[0;34m)\u001b[0m\u001b[0;34m)\u001b[0m\u001b[0;34m\u001b[0m\u001b[0;34m\u001b[0m\u001b[0m\n\u001b[0m",
            "\u001b[0;32m<ipython-input-15-864e23a08be8>\u001b[0m in \u001b[0;36mbacktrack_address_intel\u001b[0;34m(client, address, depth, checked_addresses)\u001b[0m\n\u001b[1;32m     37\u001b[0m \u001b[0;34m\u001b[0m\u001b[0m\n\u001b[1;32m     38\u001b[0m   \u001b[0;31m# Get all transactions sent by that address\u001b[0m\u001b[0;34m\u001b[0m\u001b[0;34m\u001b[0m\u001b[0;34m\u001b[0m\u001b[0m\n\u001b[0;32m---> 39\u001b[0;31m   \u001b[0mtransactions\u001b[0m \u001b[0;34m=\u001b[0m \u001b[0mclient\u001b[0m\u001b[0;34m.\u001b[0m\u001b[0mget_all_transactions\u001b[0m\u001b[0;34m(\u001b[0m\u001b[0mfrom_address\u001b[0m\u001b[0;34m=\u001b[0m\u001b[0maddress\u001b[0m\u001b[0;34m,\u001b[0m \u001b[0mstatus\u001b[0m\u001b[0;34m=\u001b[0m\u001b[0;36m2\u001b[0m\u001b[0;34m)\u001b[0m\u001b[0;34m\u001b[0m\u001b[0;34m\u001b[0m\u001b[0m\n\u001b[0m\u001b[1;32m     40\u001b[0m \u001b[0;34m\u001b[0m\u001b[0m\n\u001b[1;32m     41\u001b[0m   \u001b[0mincoming_transactions\u001b[0m \u001b[0;34m=\u001b[0m \u001b[0;34m[\u001b[0m\u001b[0mt\u001b[0m \u001b[0;32mfor\u001b[0m \u001b[0mt\u001b[0m \u001b[0;32min\u001b[0m \u001b[0mtransactions\u001b[0m \u001b[0;32mif\u001b[0m \u001b[0mt\u001b[0m\u001b[0;34m.\u001b[0m\u001b[0mto_address\u001b[0m \u001b[0;34m==\u001b[0m \u001b[0maddress\u001b[0m\u001b[0;34m]\u001b[0m\u001b[0;34m\u001b[0m\u001b[0;34m\u001b[0m\u001b[0m\n",
            "\u001b[0;32m/usr/local/lib/python3.7/dist-packages/etherscan_py/etherscan_py.py\u001b[0m in \u001b[0;36mget_all_transactions\u001b[0;34m(self, from_address, status, to_address, fn_signature, from_block, to_block, thread_count)\u001b[0m\n\u001b[1;32m    157\u001b[0m     \u001b[0;32mdef\u001b[0m \u001b[0mget_all_transactions\u001b[0m\u001b[0;34m(\u001b[0m\u001b[0mself\u001b[0m\u001b[0;34m,\u001b[0m \u001b[0mfrom_address\u001b[0m\u001b[0;34m,\u001b[0m \u001b[0mstatus\u001b[0m\u001b[0;34m,\u001b[0m \u001b[0mto_address\u001b[0m\u001b[0;34m=\u001b[0m\u001b[0;34m\"\"\u001b[0m\u001b[0;34m,\u001b[0m \u001b[0mfn_signature\u001b[0m\u001b[0;34m=\u001b[0m\u001b[0;34m\"\"\u001b[0m\u001b[0;34m,\u001b[0m \u001b[0mfrom_block\u001b[0m\u001b[0;34m=\u001b[0m\u001b[0;36m0\u001b[0m\u001b[0;34m,\u001b[0m \u001b[0mto_block\u001b[0m\u001b[0;34m=\u001b[0m\u001b[0;34m'latest'\u001b[0m\u001b[0;34m,\u001b[0m \u001b[0mthread_count\u001b[0m\u001b[0;34m=\u001b[0m\u001b[0;36m1\u001b[0m\u001b[0;34m)\u001b[0m\u001b[0;34m:\u001b[0m\u001b[0;34m\u001b[0m\u001b[0;34m\u001b[0m\u001b[0m\n\u001b[1;32m    158\u001b[0m         \u001b[0mkwargs\u001b[0m \u001b[0;34m=\u001b[0m \u001b[0;34m{\u001b[0m\u001b[0;34m\"status\"\u001b[0m\u001b[0;34m:\u001b[0m \u001b[0mstatus\u001b[0m\u001b[0;34m,\u001b[0m \u001b[0;34m\"fn_signature\"\u001b[0m\u001b[0;34m:\u001b[0m \u001b[0mfn_signature\u001b[0m\u001b[0;34m,\u001b[0m \u001b[0;34m\"to_address\"\u001b[0m\u001b[0;34m:\u001b[0m \u001b[0mto_address\u001b[0m\u001b[0;34m}\u001b[0m\u001b[0;34m\u001b[0m\u001b[0;34m\u001b[0m\u001b[0m\n\u001b[0;32m--> 159\u001b[0;31m         \u001b[0mtxs\u001b[0m \u001b[0;34m=\u001b[0m \u001b[0mself\u001b[0m\u001b[0;34m.\u001b[0m\u001b[0mthreaded_search\u001b[0m\u001b[0;34m(\u001b[0m\u001b[0mself\u001b[0m\u001b[0;34m.\u001b[0m\u001b[0mget_transactions\u001b[0m\u001b[0;34m,\u001b[0m \u001b[0mfrom_address\u001b[0m\u001b[0;34m,\u001b[0m \u001b[0mfrom_block\u001b[0m\u001b[0;34m,\u001b[0m \u001b[0mto_block\u001b[0m\u001b[0;34m,\u001b[0m \u001b[0mthread_count\u001b[0m\u001b[0;34m,\u001b[0m \u001b[0;34m**\u001b[0m\u001b[0mkwargs\u001b[0m\u001b[0;34m)\u001b[0m\u001b[0;34m\u001b[0m\u001b[0;34m\u001b[0m\u001b[0m\n\u001b[0m\u001b[1;32m    160\u001b[0m         \u001b[0;32mreturn\u001b[0m \u001b[0mtxs\u001b[0m\u001b[0;34m\u001b[0m\u001b[0;34m\u001b[0m\u001b[0m\n\u001b[1;32m    161\u001b[0m \u001b[0;34m\u001b[0m\u001b[0m\n",
            "\u001b[0;32m/usr/local/lib/python3.7/dist-packages/etherscan_py/etherscan_py.py\u001b[0m in \u001b[0;36mthreaded_search\u001b[0;34m(self, fn_name, address, from_block, to_block, thread_count, **kwargs)\u001b[0m\n\u001b[1;32m    162\u001b[0m     \u001b[0;32mdef\u001b[0m \u001b[0mthreaded_search\u001b[0m\u001b[0;34m(\u001b[0m\u001b[0mself\u001b[0m\u001b[0;34m,\u001b[0m \u001b[0mfn_name\u001b[0m\u001b[0;34m,\u001b[0m \u001b[0maddress\u001b[0m\u001b[0;34m,\u001b[0m \u001b[0mfrom_block\u001b[0m\u001b[0;34m,\u001b[0m \u001b[0mto_block\u001b[0m\u001b[0;34m,\u001b[0m \u001b[0mthread_count\u001b[0m\u001b[0;34m=\u001b[0m\u001b[0;36m1\u001b[0m\u001b[0;34m,\u001b[0m \u001b[0;34m**\u001b[0m\u001b[0mkwargs\u001b[0m\u001b[0;34m)\u001b[0m\u001b[0;34m:\u001b[0m\u001b[0;34m\u001b[0m\u001b[0;34m\u001b[0m\u001b[0m\n\u001b[1;32m    163\u001b[0m         \u001b[0;32mif\u001b[0m \u001b[0mfrom_block\u001b[0m \u001b[0;34m==\u001b[0m \u001b[0;36m0\u001b[0m\u001b[0;34m:\u001b[0m\u001b[0;34m\u001b[0m\u001b[0;34m\u001b[0m\u001b[0m\n\u001b[0;32m--> 164\u001b[0;31m             \u001b[0mfrom_block\u001b[0m \u001b[0;34m=\u001b[0m \u001b[0mself\u001b[0m\u001b[0;34m.\u001b[0m\u001b[0mget_first_tx_block\u001b[0m\u001b[0;34m(\u001b[0m\u001b[0maddress\u001b[0m\u001b[0;34m)\u001b[0m\u001b[0;34m\u001b[0m\u001b[0;34m\u001b[0m\u001b[0m\n\u001b[0m\u001b[1;32m    165\u001b[0m \u001b[0;34m\u001b[0m\u001b[0m\n\u001b[1;32m    166\u001b[0m         \u001b[0;32mif\u001b[0m \u001b[0mto_block\u001b[0m \u001b[0;34m==\u001b[0m \u001b[0;34m'latest'\u001b[0m\u001b[0;34m:\u001b[0m\u001b[0;34m\u001b[0m\u001b[0;34m\u001b[0m\u001b[0m\n",
            "\u001b[0;32m/usr/local/lib/python3.7/dist-packages/etherscan_py/etherscan_py.py\u001b[0m in \u001b[0;36mget_first_tx_block\u001b[0;34m(self, contract_address)\u001b[0m\n\u001b[1;32m    106\u001b[0m         \u001b[0mextra_data\u001b[0m \u001b[0;34m=\u001b[0m \u001b[0;34mf\"address={contract_address}&page=1&offset=1&sort=asc\"\u001b[0m\u001b[0;34m\u001b[0m\u001b[0;34m\u001b[0m\u001b[0m\n\u001b[1;32m    107\u001b[0m         \u001b[0mres\u001b[0m \u001b[0;34m=\u001b[0m \u001b[0mself\u001b[0m\u001b[0;34m.\u001b[0m\u001b[0mget\u001b[0m\u001b[0;34m(\u001b[0m\u001b[0;34m\"account\"\u001b[0m\u001b[0;34m,\u001b[0m \u001b[0;34m\"txlist\"\u001b[0m\u001b[0;34m,\u001b[0m \u001b[0mextra_data\u001b[0m\u001b[0;34m)\u001b[0m\u001b[0;34m\u001b[0m\u001b[0;34m\u001b[0m\u001b[0m\n\u001b[0;32m--> 108\u001b[0;31m         \u001b[0mblock_number\u001b[0m \u001b[0;34m=\u001b[0m \u001b[0mint\u001b[0m\u001b[0;34m(\u001b[0m\u001b[0mres\u001b[0m\u001b[0;34m[\u001b[0m\u001b[0;36m0\u001b[0m\u001b[0;34m]\u001b[0m\u001b[0;34m[\u001b[0m\u001b[0;34m'blockNumber'\u001b[0m\u001b[0;34m]\u001b[0m\u001b[0;34m)\u001b[0m\u001b[0;34m\u001b[0m\u001b[0;34m\u001b[0m\u001b[0m\n\u001b[0m\u001b[1;32m    109\u001b[0m         \u001b[0;32mreturn\u001b[0m \u001b[0mblock_number\u001b[0m\u001b[0;34m\u001b[0m\u001b[0;34m\u001b[0m\u001b[0m\n\u001b[1;32m    110\u001b[0m \u001b[0;34m\u001b[0m\u001b[0m\n",
            "\u001b[0;31mIndexError\u001b[0m: list index out of range"
          ]
        }
      ]
    },
    {
      "cell_type": "code",
      "metadata": {
        "id": "z8XFTvYydlXM"
      },
      "source": [
        "# Convert transactions to dicts (Just for exporting to Neo4J)\n",
        "backtrack_data_dict = {addr: [t.__dict__ for t in trans] for addr, trans in addresses.items()}\n",
        "\n",
        "save_to_neo4j(backtrack_data_dict, direction=\"backward\")"
      ],
      "execution_count": null,
      "outputs": []
    },
    {
      "cell_type": "markdown",
      "metadata": {
        "id": "I-oaujT2dmi2"
      },
      "source": [
        "# Normal transaction backtracking\n",
        "Can you verify that the origin (3 levels deep) of the funds in this Goerli Testnet \n",
        "Ethereum address 0x4A69805B898E6f05cC3b01a8E37e51A81d46C754 was \n",
        "0x8c673E60b2d30D59F3CE7598CF4134d0EF9e773d? Was there any anonymity \n",
        "technique used on those transactions? If yes which one (Coin mixing/CoinJoin)? Show a \n",
        "network graph of the transaction trail if applicable."
      ]
    },
    {
      "cell_type": "code",
      "metadata": {
        "colab": {
          "base_uri": "https://localhost:8080/"
        },
        "id": "oA3YdYZGJ5zQ",
        "outputId": "d9c1ff8e-1c3a-4fef-dd99-cff4fc405109"
      },
      "source": [
        "addresses = {}\n",
        "backtrack_address_intel(client=goerli_client, address=\"0x4A69805B898E6f05cC3b01a8E37e51A81d46C754\", depth=3, checked_addresses=set())"
      ],
      "execution_count": null,
      "outputs": [
        {
          "output_type": "stream",
          "text": [
            "Backtracking from:  0x4a69805b898e6f05cc3b01a8e37e51a81d46c754\n",
            "Backtracking from:  0xc44b86e59bd8357de08f33d8c83251f31b57a85c\n",
            "Backtracking from:  0x8c673e60b2d30d59f3ce7598cf4134d0ef9e773d\n"
          ],
          "name": "stdout"
        }
      ]
    },
    {
      "cell_type": "code",
      "metadata": {
        "id": "f519VEu_cEeY"
      },
      "source": [
        "# Convert transactions to dicts (Just for exporting to Neo4J)\n",
        "backtrack_data_dict = {addr: [t.__dict__ for t in trans] for addr, trans in addresses.items()}\n",
        "\n",
        "save_to_neo4j(backtrack_data_dict, direction=\"backward\")"
      ],
      "execution_count": null,
      "outputs": []
    },
    {
      "cell_type": "markdown",
      "metadata": {
        "id": "2WHDIzMaeNms"
      },
      "source": [
        "![](https://i.ibb.co/BB6SgkW/graph.png)"
      ]
    }
  ]
}