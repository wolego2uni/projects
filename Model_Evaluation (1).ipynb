{
  "nbformat": 4,
  "nbformat_minor": 0,
  "metadata": {
    "instance_type": "ml.c5.large",
    "kernelspec": {
      "display_name": "Python 3 (PyTorch 1.6 Python 3.6 CPU Optimized)",
      "language": "python",
      "name": "python3__SAGEMAKER_INTERNAL__arn:aws:sagemaker:eu-central-1:936697816551:image/pytorch-1.6-cpu-py36-ubuntu16.04-v1"
    },
    "language_info": {
      "codemirror_mode": {
        "name": "ipython",
        "version": 3
      },
      "file_extension": ".py",
      "mimetype": "text/x-python",
      "name": "python",
      "nbconvert_exporter": "python",
      "pygments_lexer": "ipython3",
      "version": "3.6.13"
    },
    "colab": {
      "name": "Model_Evaluation.ipynb",
      "provenance": [],
      "collapsed_sections": []
    }
  },
  "cells": [
    {
      "cell_type": "markdown",
      "metadata": {
        "id": "eJYHN9913gfk"
      },
      "source": [
        "Main performance metrics for Datasets\n",
        "Confusion Metrix\n"
      ]
    },
    {
      "cell_type": "markdown",
      "metadata": {
        "id": "abtvH5jsueC6"
      },
      "source": [
        "##**Import Packages**"
      ]
    },
    {
      "cell_type": "code",
      "metadata": {
        "id": "6kkn8EKpueC-"
      },
      "source": [
        "import numpy as np\n",
        "import pandas as pd\n",
        "import seaborn as sns\n",
        "import torch\n",
        "from sklearn.metrics import confusion_matrix, classification_report\n",
        "from transformers import AutoModelForSequenceClassification, AutoTokenizer\n"
      ],
      "execution_count": null,
      "outputs": []
    },
    {
      "cell_type": "code",
      "metadata": {
        "id": "VyjA0qMSueDB"
      },
      "source": [
        "\n",
        "class Model:\n",
        "    def __init__(self):\n",
        "        torch.set_grad_enabled(False)\n",
        "        torch.set_num_threads(1)\n",
        "        self.device = torch.device(\"cuda:0\" if torch.cuda.is_available() else \"cpu\")\n",
        "        self.tokenizer = AutoTokenizer.from_pretrained(\"./olu_model\")\n",
        "        self.classifier = AutoModelForSequenceClassification.from_pretrained(\"./olu_model\")\n",
        "        self.classifier.to(self.device)\n",
        "        self.classifier.eval()\n",
        "    def predict(self, text):\n",
        "        encoded_text = self.tokenizer.encode_plus(\n",
        "            text,\n",
        "            max_length=150,\n",
        "            add_special_tokens=True,\n",
        "            return_token_type_ids=False,\n",
        "            pad_to_max_length=False,\n",
        "            return_attention_mask=True,\n",
        "            return_tensors=\"pt\",\n",
        "            truncation=True,\n",
        "        )\n",
        "        input_ids = encoded_text[\"input_ids\"].to(self.device)\n",
        "        attention_mask = encoded_text[\"attention_mask\"].to(self.device)\n",
        "        inferences = []\n",
        "        predictions = self.classifier(input_ids, attention_mask)\n",
        "        results = predictions[\"logits\"].tolist()[0]\n",
        "        inferences.append(results)\n",
        "        return inferences"
      ],
      "execution_count": null,
      "outputs": []
    },
    {
      "cell_type": "code",
      "metadata": {
        "id": "ckOb8kX_ueDB"
      },
      "source": [
        "#Instantiating the model\n",
        "pred = Model()"
      ],
      "execution_count": null,
      "outputs": []
    },
    {
      "cell_type": "code",
      "metadata": {
        "id": "-LaQaIxTueDC",
        "outputId": "6a5c2426-109c-4f26-cd44-26c9e0becd68"
      },
      "source": [
        "#testing out a prediction\n",
        "np.argmax(pred.predict(\"I hate Muslim people\"))"
      ],
      "execution_count": null,
      "outputs": [
        {
          "name": "stdout",
          "output_type": "stream",
          "text": [
            "[2021-11-16 14:53:03.483 pytorch-1-6-cpu-py36-u-ml-c5-large-d3b44260bba1e2e53aa6c50c7222:654 INFO utils.py:27] RULE_JOB_STOP_SIGNAL_FILENAME: None\n",
            "[2021-11-16 14:53:03.545 pytorch-1-6-cpu-py36-u-ml-c5-large-d3b44260bba1e2e53aa6c50c7222:654 INFO profiler_config_parser.py:102] Unable to find config at /opt/ml/input/config/profilerconfig.json. Profiler is disabled.\n"
          ]
        },
        {
          "data": {
            "text/plain": [
              "1"
            ]
          },
          "execution_count": 20,
          "metadata": {},
          "output_type": "execute_result"
        }
      ]
    },
    {
      "cell_type": "markdown",
      "metadata": {
        "id": "KbZkhuU7w_-Z"
      },
      "source": [
        "For model evaluation, the following datasets was used; \n",
        "1.   Hatecheck\n",
        "2.   Dynabench\n",
        "3.   Founta\n",
        "4.   Davidson \n",
        "\n"
      ]
    },
    {
      "cell_type": "code",
      "metadata": {
        "id": "UVpw8N9NueDD"
      },
      "source": [
        "df_path = \"dynabench.csv\" #file path \n",
        "df =pd.read_csv(df_path)"
      ],
      "execution_count": null,
      "outputs": []
    },
    {
      "cell_type": "code",
      "metadata": {
        "id": "QiKKnWNLueDD"
      },
      "source": [
        "df= df[['text', 'label']]\n",
        "#df =df.sample(20)"
      ],
      "execution_count": null,
      "outputs": []
    },
    {
      "cell_type": "code",
      "metadata": {
        "id": "Gd3raV4GueDE",
        "outputId": "42314a55-d1ce-4434-a8c5-313c80d9cc91"
      },
      "source": [
        "df"
      ],
      "execution_count": null,
      "outputs": [
        {
          "data": {
            "text/html": [
              "<div>\n",
              "<style scoped>\n",
              "    .dataframe tbody tr th:only-of-type {\n",
              "        vertical-align: middle;\n",
              "    }\n",
              "\n",
              "    .dataframe tbody tr th {\n",
              "        vertical-align: top;\n",
              "    }\n",
              "\n",
              "    .dataframe thead th {\n",
              "        text-align: right;\n",
              "    }\n",
              "</style>\n",
              "<table border=\"1\" class=\"dataframe\">\n",
              "  <thead>\n",
              "    <tr style=\"text-align: right;\">\n",
              "      <th></th>\n",
              "      <th>text</th>\n",
              "      <th>label</th>\n",
              "    </tr>\n",
              "  </thead>\n",
              "  <tbody>\n",
              "    <tr>\n",
              "      <th>0</th>\n",
              "      <td>dalits are lowlives</td>\n",
              "      <td>1</td>\n",
              "    </tr>\n",
              "    <tr>\n",
              "      <th>1</th>\n",
              "      <td>It was a better world when women dare not ques...</td>\n",
              "      <td>1</td>\n",
              "    </tr>\n",
              "    <tr>\n",
              "      <th>2</th>\n",
              "      <td>I don't work this hard so that those immigrant...</td>\n",
              "      <td>1</td>\n",
              "    </tr>\n",
              "    <tr>\n",
              "      <th>3</th>\n",
              "      <td>I don't work this hard so that those foreigner...</td>\n",
              "      <td>1</td>\n",
              "    </tr>\n",
              "    <tr>\n",
              "      <th>4</th>\n",
              "      <td>I don't work this hard so that those chavs can...</td>\n",
              "      <td>1</td>\n",
              "    </tr>\n",
              "    <tr>\n",
              "      <th>...</th>\n",
              "      <td>...</td>\n",
              "      <td>...</td>\n",
              "    </tr>\n",
              "    <tr>\n",
              "      <th>9995</th>\n",
              "      <td>I have that opinion. absolutely everyone I act...</td>\n",
              "      <td>0</td>\n",
              "    </tr>\n",
              "    <tr>\n",
              "      <th>9996</th>\n",
              "      <td>This dark female, I am not going to use the hu...</td>\n",
              "      <td>1</td>\n",
              "    </tr>\n",
              "    <tr>\n",
              "      <th>9997</th>\n",
              "      <td>I guess you are assuming that the french laws ...</td>\n",
              "      <td>1</td>\n",
              "    </tr>\n",
              "    <tr>\n",
              "      <th>9998</th>\n",
              "      <td>I mean, theres no one better right now to give...</td>\n",
              "      <td>0</td>\n",
              "    </tr>\n",
              "    <tr>\n",
              "      <th>9999</th>\n",
              "      <td>We should use YOU as a substitute when experim...</td>\n",
              "      <td>0</td>\n",
              "    </tr>\n",
              "  </tbody>\n",
              "</table>\n",
              "<p>10000 rows × 2 columns</p>\n",
              "</div>"
            ],
            "text/plain": [
              "                                                   text  label\n",
              "0                                   dalits are lowlives      1\n",
              "1     It was a better world when women dare not ques...      1\n",
              "2     I don't work this hard so that those immigrant...      1\n",
              "3     I don't work this hard so that those foreigner...      1\n",
              "4     I don't work this hard so that those chavs can...      1\n",
              "...                                                 ...    ...\n",
              "9995  I have that opinion. absolutely everyone I act...      0\n",
              "9996  This dark female, I am not going to use the hu...      1\n",
              "9997  I guess you are assuming that the french laws ...      1\n",
              "9998  I mean, theres no one better right now to give...      0\n",
              "9999  We should use YOU as a substitute when experim...      0\n",
              "\n",
              "[10000 rows x 2 columns]"
            ]
          },
          "execution_count": 85,
          "metadata": {},
          "output_type": "execute_result"
        }
      ]
    },
    {
      "cell_type": "code",
      "metadata": {
        "id": "xsAydgMXueDE"
      },
      "source": [
        "#function to generate predictions\n",
        "def predict(text):\n",
        "    return np.argmax(pred.predict(text))"
      ],
      "execution_count": null,
      "outputs": []
    },
    {
      "cell_type": "code",
      "metadata": {
        "id": "KG-SzZk3ueDF"
      },
      "source": [
        "#function to generate classification report \n",
        "def report(df, pred):\n",
        "    df[\"predictions\"] = df[\"text\"].apply(lambda x:predict(x))\n",
        "    return classification_report(df[\"label\"], df[\"predictions\"])\n",
        "\n",
        "#function to generate confusion matrix\n",
        "def confusion(true,prediction):\n",
        "    cf_matrix = confusion_matrix(df[\"label\"], df[\"predictions\"])\n",
        "    conf =sns.heatmap(cf_matrix, linewidths=1, annot=True, fmt='g')\n",
        "    return conf"
      ],
      "execution_count": null,
      "outputs": []
    },
    {
      "cell_type": "code",
      "metadata": {
        "id": "5wR1l12BueDF",
        "outputId": "b4126276-b667-476a-93d6-9673ebf821be"
      },
      "source": [
        "# printing the metrics and plotting the confusion metrics by calling their respective functions\n",
        "\n",
        "print(report(df,pred))\n",
        "confusion(df[\"label\"], df[\"predictions\"])"
      ],
      "execution_count": null,
      "outputs": [
        {
          "name": "stdout",
          "output_type": "stream",
          "text": [
            "              precision    recall  f1-score   support\n",
            "\n",
            "           0       0.83      0.90      0.86      4626\n",
            "           1       0.91      0.84      0.87      5374\n",
            "\n",
            "    accuracy                           0.87     10000\n",
            "   macro avg       0.87      0.87      0.87     10000\n",
            "weighted avg       0.87      0.87      0.87     10000\n",
            "\n"
          ]
        },
        {
          "data": {
            "text/plain": [
              "<AxesSubplot:>"
            ]
          },
          "execution_count": 88,
          "metadata": {},
          "output_type": "execute_result"
        },
        {
          "data": {
            "image/png": "[encoded data removed]",
            "text/plain": [
              "<Figure size 432x288 with 2 Axes>"
            ]
          },
          "metadata": {
            "needs_background": "light"
          },
          "output_type": "display_data"
        }
      ]
    },
    {
      "cell_type": "code",
      "metadata": {
        "id": "wLHgIuOIueDG"
      },
      "source": [
        "#function to generate misclasified text\n",
        "def error(df):\n",
        "    df[\"predictions\"] = df[\"text\"].apply(lambda x:predict(x))\n",
        "    df_errors = df[df['label'] !=df['predictions']]\n",
        "    return df_errors\n",
        "    "
      ],
      "execution_count": null,
      "outputs": []
    },
    {
      "cell_type": "code",
      "metadata": {
        "id": "vER6FqopueDG"
      },
      "source": [
        "#generating a csv file of misclassified text\n",
        "error(df).to_csv('errors.csv')"
      ],
      "execution_count": null,
      "outputs": []
    }
  ]
}